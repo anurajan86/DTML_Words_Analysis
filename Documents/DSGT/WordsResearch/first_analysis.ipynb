import textstat as ts
import pandas as pd
import numpy as np

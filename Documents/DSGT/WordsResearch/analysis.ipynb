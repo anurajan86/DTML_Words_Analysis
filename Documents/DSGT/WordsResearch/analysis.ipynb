{
 "cells": [
  {
   "cell_type": "code",
   "execution_count": 3,
   "metadata": {},
   "outputs": [
    {
     "data": {
      "text/plain": [
       "'/Users/anuraag_govindarajan/anaconda3/bin/python'"
      ]
     },
     "execution_count": 3,
     "metadata": {},
     "output_type": "execute_result"
    }
   ],
   "source": [
    "import textstat as ts\n",
    "import pandas as pd\n",
    "import numpy as np\n",
    "from scipy import stats\n",
    "import sys\n",
    "sys.executable"
   ]
  },
  {
   "cell_type": "code",
   "execution_count": 4,
   "metadata": {},
   "outputs": [],
   "source": [
    "words = pd.read_csv(\"words.csv\")\n",
    "words_col = words[[\"word\"]]\n",
    "success_col = words[[\"success_rate\"]]\n",
    "lemma_col = words[[\"lemmaTF\"]]\n",
    "words_list = words_col.values\n",
    "success_list = success_col.values\n",
    "lemma_list = lemma_col.values\n"
   ]
  },
  {
   "cell_type": "code",
   "execution_count": 8,
   "metadata": {},
   "outputs": [],
   "source": [
    "flight = pd.read_csv(\"flightdata.csv\")\n",
    "merge_result = flight.merge(words, on=\"word\")\n",
    "#merge_result.to_csv(index=False, path_or_buf=\"merge_result.csv\")"
   ]
  },
  {
   "cell_type": "code",
   "execution_count": 6,
   "metadata": {},
   "outputs": [
    {
     "name": "stdout",
     "output_type": "stream",
     "text": [
      "(array([-0.05066061]), array([2.43811856e-06]))\n"
     ]
    },
    {
     "data": {
      "text/plain": [
       "<Figure size 640x480 with 1 Axes>"
      ]
     },
     "metadata": {},
     "output_type": "display_data"
    }
   ],
   "source": [
    "#print(words_list)\n",
    "#print(stats.pearsonr(success_list, lemma_list))\n",
    "\n",
    "syllable_list = []\n",
    "reading_ease_list = []\n",
    "kincaid_grade_list = []\n",
    "readability_index_list = []\n",
    "readability_score_list = []\n",
    "for word in words_list:\n",
    "    for w in word:\n",
    "        syllables = ts.syllable_count(w)\n",
    "        syllable_list.append([syllables])\n",
    "        reading_ease = ts.flesch_reading_ease(w)\n",
    "        reading_ease_list.append([reading_ease])\n",
    "        grades = ts.flesch_kincaid_grade(w)\n",
    "        kincaid_grade_list.append([grades])\n",
    "        index = ts.automated_readability_index(w)\n",
    "        readability_index_list.append([index])\n",
    "        scores = ts.dale_chall_readability_score(w)\n",
    "        readability_score_list.append([scores])\n",
    "        \n",
    "#print(syllable_list[1:])\n",
    "arr_syllables = np.array(syllable_list)\n",
    "arr_reading_ease = np.array(reading_ease_list)\n",
    "arr_kincaid_grade = np.array(kincaid_grade_list)\n",
    "arr_readability_index = np.array(readability_index_list)\n",
    "arr_readability_score = np.array(readability_score_list)\n",
    "#print(stats.pearsonr(success_list, arr_syllables))\n",
    "#print(stats.pearsonr(success_list, arr_reading_ease))\n",
    "#print(stats.pearsonr(success_list, arr_kincaid_grade))\n",
    "#print(stats.pearsonr(success_list, arr_readability_index))\n",
    "import matplotlib.pyplot as plt\n",
    "print(stats.pearsonr(success_list, arr_readability_score))\n",
    "plt.plot(success_list, arr_readability_score)\n",
    "plt.show()"
   ]
  },
  {
   "cell_type": "code",
   "execution_count": 7,
   "metadata": {},
   "outputs": [
    {
     "name": "stdout",
     "output_type": "stream",
     "text": [
      "-3.5\n"
     ]
    }
   ],
   "source": [
    "print(ts.flesch_kincaid_grade(\"no\"))"
   ]
  },
  {
   "cell_type": "code",
   "execution_count": 22,
   "metadata": {},
   "outputs": [
    {
     "data": {
      "text/plain": [
       "210"
      ]
     },
     "execution_count": 22,
     "metadata": {},
     "output_type": "execute_result"
    }
   ],
   "source": [
    "registered = pd.read_excel(\"RegisteredUsers.xlsx\")\n",
    "merge_result_2 = flight.merge(registered, on=\"userid\")\n",
    "countries_col = registered[[\"Country\"]]\n",
    "countries = countries_col.values\n",
    "countries_list = []\n",
    "for cou in countries:\n",
    "    for c in cou:\n",
    "        countries_list.append(c)\n",
    "len(set(countries_list))\n",
    "    "
   ]
  },
  {
   "cell_type": "code",
   "execution_count": null,
   "metadata": {},
   "outputs": [],
   "source": []
  }
 ],
 "metadata": {
  "kernelspec": {
   "display_name": "Python 3",
   "language": "python",
   "name": "python3"
  },
  "language_info": {
   "codemirror_mode": {
    "name": "ipython",
    "version": 3
   },
   "file_extension": ".py",
   "mimetype": "text/x-python",
   "name": "python",
   "nbconvert_exporter": "python",
   "pygments_lexer": "ipython3",
   "version": "3.6.5"
  }
 },
 "nbformat": 4,
 "nbformat_minor": 2
}
